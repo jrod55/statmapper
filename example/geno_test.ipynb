{
 "cells": [
  {
   "cell_type": "code",
   "execution_count": 1,
   "metadata": {},
   "outputs": [],
   "source": [
    "import numpy as np\n",
    "import statmapper as stm\n",
    "from sklearn_tda import MapperComplex\n",
    "import matplotlib.pyplot as plt\n",
    "import networkx as nx\n",
    "from sklearn.cluster import AgglomerativeClustering\n",
    "from sklearn_tda import clustering"
   ]
  },
  {
   "cell_type": "markdown",
   "metadata": {},
   "source": [
    "Load data."
   ]
  },
  {
   "cell_type": "code",
   "execution_count": 2,
   "metadata": {},
   "outputs": [],
   "source": [
    "X = np.loadtxt(\"geno_testmat\")\n",
    "XF = np.loadtxt(\"testfilt\")\n",
    "XF = XF.reshape(467,1)\n"
   ]
  },
  {
   "cell_type": "markdown",
   "metadata": {},
   "source": [
    "Compute Mapper with `sklearn_tda`"
   ]
  },
  {
   "cell_type": "code",
   "execution_count": 4,
   "metadata": {},
   "outputs": [],
   "source": [
    "\"\"\" params = {\"filters\": X[:,2:3], \"filter_bnds\": np.array([[np.nan,np.nan]]), \"colors\": X, \n",
    "          \"resolutions\": np.array([24]), \"gains\": np.array([0.3]), \"inp\": \"point cloud\", \n",
    "          \"clustering\": AgglomerativeClustering(n_clusters=None, linkage=\"single\", distance_threshold=.1)} \"\"\"\n",
    "\n",
    "\"\"\" params = {\"filters\": XF, \"filter_bnds\": np.array([[np.nan,np.nan]]), \"colors\": X, \n",
    "          \"resolutions\": np.array([np.nan]), \"gains\": np.array([0.50]), \"inp\": \"point cloud\", \n",
    "          \"clustering\": AgglomerativeClustering(n_clusters=None, linkage=\"single\", distance_threshold=0.7)} \"\"\"\n",
    "\n",
    "params = {\"filters\": XF, \"filter_bnds\": np.array([[np.nan,np.nan]]), \"colors\": X, \n",
    "          \"resolutions\": np.array([np.nan]), \"gains\": np.array([0.15]), \"inp\": \"point cloud\", \n",
    "          \"clustering\": AgglomerativeClustering(n_clusters=None, linkage=\"single\", distance_threshold=382.26814172615633)}"
   ]
  },
  {
   "cell_type": "code",
   "execution_count": 5,
   "metadata": {},
   "outputs": [
    {
     "ename": "KeyboardInterrupt",
     "evalue": "",
     "output_type": "error",
     "traceback": [
      "\u001b[0;31m---------------------------------------------------------------------------\u001b[0m",
      "\u001b[0;31mKeyboardInterrupt\u001b[0m                         Traceback (most recent call last)",
      "\u001b[1;32m/home/jnrodriguez/statmapper/example/geno_test.ipynb Cell 6\u001b[0m line \u001b[0;36m1\n\u001b[0;32m----> <a href='vscode-notebook-cell:/home/jnrodriguez/statmapper/example/geno_test.ipynb#W5sZmlsZQ%3D%3D?line=0'>1</a>\u001b[0m M \u001b[39m=\u001b[39m MapperComplex(\u001b[39m*\u001b[39;49m\u001b[39m*\u001b[39;49mparams)\u001b[39m.\u001b[39;49mfit(X)\n",
      "File \u001b[0;32m~/mambaforge/envs/statmapper/lib/python3.11/site-packages/sklearn_tda/clustering.py:127\u001b[0m, in \u001b[0;36mMapperComplex.fit\u001b[0;34m(self, X, y)\u001b[0m\n\u001b[1;32m    125\u001b[0m \u001b[39m# If some resolutions are not specified, automatically compute them\u001b[39;00m\n\u001b[1;32m    126\u001b[0m \u001b[39mif\u001b[39;00m np\u001b[39m.\u001b[39many(np\u001b[39m.\u001b[39misnan(\u001b[39mself\u001b[39m\u001b[39m.\u001b[39mresolutions)) \u001b[39mor\u001b[39;00m \u001b[39mself\u001b[39m\u001b[39m.\u001b[39mclustering \u001b[39mis\u001b[39;00m \u001b[39mNone\u001b[39;00m:\n\u001b[0;32m--> 127\u001b[0m     delta, resolutions \u001b[39m=\u001b[39m \u001b[39mself\u001b[39;49m\u001b[39m.\u001b[39;49mget_optimal_parameters_for_agglomerative_clustering(X\u001b[39m=\u001b[39;49mX, beta\u001b[39m=\u001b[39;49m\u001b[39mself\u001b[39;49m\u001b[39m.\u001b[39;49mbeta, C\u001b[39m=\u001b[39;49m\u001b[39mself\u001b[39;49m\u001b[39m.\u001b[39;49mC, N\u001b[39m=\u001b[39;49m\u001b[39mself\u001b[39;49m\u001b[39m.\u001b[39;49mN)\n\u001b[1;32m    128\u001b[0m     \u001b[39mif\u001b[39;00m \u001b[39mself\u001b[39m\u001b[39m.\u001b[39mclustering \u001b[39mis\u001b[39;00m \u001b[39mNone\u001b[39;00m:\n\u001b[1;32m    129\u001b[0m         \u001b[39mif\u001b[39;00m \u001b[39mself\u001b[39m\u001b[39m.\u001b[39minput \u001b[39m==\u001b[39m \u001b[39m\"\u001b[39m\u001b[39mpoint cloud\u001b[39m\u001b[39m\"\u001b[39m:\n",
      "File \u001b[0;32m~/mambaforge/envs/statmapper/lib/python3.11/site-packages/sklearn_tda/clustering.py:98\u001b[0m, in \u001b[0;36mMapperComplex.get_optimal_parameters_for_agglomerative_clustering\u001b[0;34m(self, X, beta, C, N)\u001b[0m\n\u001b[1;32m     84\u001b[0m \u001b[39m\u001b[39m\u001b[39m\"\"\"\u001b[39;00m\n\u001b[1;32m     85\u001b[0m \u001b[39mCompute optimal scale and resolutions for a point cloud or a distance matrix.\u001b[39;00m\n\u001b[1;32m     86\u001b[0m \n\u001b[0;32m   (...)\u001b[0m\n\u001b[1;32m     95\u001b[0m \u001b[39m    resolutions (numpy array of shape (num_filters): optimal resolutions associated to each filter.\u001b[39;00m\n\u001b[1;32m     96\u001b[0m \u001b[39m\"\"\"\u001b[39;00m\n\u001b[1;32m     97\u001b[0m num_pts, num_filt, delta \u001b[39m=\u001b[39m X\u001b[39m.\u001b[39mshape[\u001b[39m0\u001b[39m], \u001b[39mself\u001b[39m\u001b[39m.\u001b[39mfilters\u001b[39m.\u001b[39mshape[\u001b[39m1\u001b[39m], \u001b[39m0\u001b[39m\n\u001b[0;32m---> 98\u001b[0m delta \u001b[39m=\u001b[39m estimate_scale(X\u001b[39m=\u001b[39;49mX, N\u001b[39m=\u001b[39;49mN, inp\u001b[39m=\u001b[39;49m\u001b[39mself\u001b[39;49m\u001b[39m.\u001b[39;49minput, C\u001b[39m=\u001b[39;49mC, beta\u001b[39m=\u001b[39;49mbeta)\n\u001b[1;32m    100\u001b[0m pairwise \u001b[39m=\u001b[39m pairwise_distances(X, metric\u001b[39m=\u001b[39m\u001b[39m\"\u001b[39m\u001b[39meuclidean\u001b[39m\u001b[39m\"\u001b[39m) \u001b[39mif\u001b[39;00m \u001b[39mself\u001b[39m\u001b[39m.\u001b[39minput \u001b[39m==\u001b[39m \u001b[39m\"\u001b[39m\u001b[39mpoint cloud\u001b[39m\u001b[39m\"\u001b[39m \u001b[39melse\u001b[39;00m X\n\u001b[1;32m    101\u001b[0m pairs \u001b[39m=\u001b[39m np\u001b[39m.\u001b[39margwhere(pairwise \u001b[39m<\u001b[39m\u001b[39m=\u001b[39m delta)\n",
      "File \u001b[0;32m~/mambaforge/envs/statmapper/lib/python3.11/site-packages/sklearn_tda/clustering.py:50\u001b[0m, in \u001b[0;36mestimate_scale\u001b[0;34m(X, N, inp, beta, C)\u001b[0m\n\u001b[1;32m     48\u001b[0m subpop \u001b[39m=\u001b[39m np\u001b[39m.\u001b[39mrandom\u001b[39m.\u001b[39mchoice(num_pts, size\u001b[39m=\u001b[39mm, replace\u001b[39m=\u001b[39m\u001b[39mFalse\u001b[39;00m)\n\u001b[1;32m     49\u001b[0m \u001b[39mif\u001b[39;00m inp \u001b[39m==\u001b[39m \u001b[39m\"\u001b[39m\u001b[39mpoint cloud\u001b[39m\u001b[39m\"\u001b[39m:\n\u001b[0;32m---> 50\u001b[0m     d, _, _ \u001b[39m=\u001b[39m directed_hausdorff(X, X[subpop,:])\n\u001b[1;32m     51\u001b[0m \u001b[39mif\u001b[39;00m inp \u001b[39m==\u001b[39m \u001b[39m\"\u001b[39m\u001b[39mdistance matrix\u001b[39m\u001b[39m\"\u001b[39m:\n\u001b[1;32m     52\u001b[0m     d \u001b[39m=\u001b[39m np\u001b[39m.\u001b[39mmax(np\u001b[39m.\u001b[39mmin(X[:,subpop], axis\u001b[39m=\u001b[39m\u001b[39m1\u001b[39m), axis\u001b[39m=\u001b[39m\u001b[39m0\u001b[39m)\n",
      "File \u001b[0;32m~/mambaforge/envs/statmapper/lib/python3.11/site-packages/scipy/spatial/distance.py:425\u001b[0m, in \u001b[0;36mdirected_hausdorff\u001b[0;34m(u, v, seed)\u001b[0m\n\u001b[1;32m    422\u001b[0m \u001b[39mif\u001b[39;00m u\u001b[39m.\u001b[39mshape[\u001b[39m1\u001b[39m] \u001b[39m!=\u001b[39m v\u001b[39m.\u001b[39mshape[\u001b[39m1\u001b[39m]:\n\u001b[1;32m    423\u001b[0m     \u001b[39mraise\u001b[39;00m \u001b[39mValueError\u001b[39;00m(\u001b[39m'\u001b[39m\u001b[39mu and v need to have the same \u001b[39m\u001b[39m'\u001b[39m\n\u001b[1;32m    424\u001b[0m                      \u001b[39m'\u001b[39m\u001b[39mnumber of columns\u001b[39m\u001b[39m'\u001b[39m)\n\u001b[0;32m--> 425\u001b[0m result \u001b[39m=\u001b[39m _hausdorff\u001b[39m.\u001b[39;49mdirected_hausdorff(u, v, seed)\n\u001b[1;32m    426\u001b[0m \u001b[39mreturn\u001b[39;00m result\n",
      "\u001b[0;31mKeyboardInterrupt\u001b[0m: "
     ]
    }
   ],
   "source": [
    "M = MapperComplex(**params).fit(X)"
   ]
  },
  {
   "cell_type": "code",
   "execution_count": null,
   "metadata": {},
   "outputs": [],
   "source": [
    "MapperComplex?"
   ]
  },
  {
   "cell_type": "code",
   "execution_count": 3,
   "metadata": {},
   "outputs": [
    {
     "data": {
      "text/plain": [
       "382.26814172615633"
      ]
     },
     "execution_count": 3,
     "metadata": {},
     "output_type": "execute_result"
    }
   ],
   "source": [
    "clustering.estimate_scale(X)"
   ]
  },
  {
   "cell_type": "code",
   "execution_count": null,
   "metadata": {},
   "outputs": [],
   "source": [
    "MapperComplex(**params).get_optimal_parameters_for_agglomerative_clustering(X)"
   ]
  },
  {
   "cell_type": "markdown",
   "metadata": {},
   "source": [
    "Display Mapper with `networkx` library."
   ]
  },
  {
   "cell_type": "code",
   "execution_count": null,
   "metadata": {},
   "outputs": [],
   "source": [
    "G = stm.mapper2networkx(M)\n",
    "nx.draw_networkx(G,pos=nx.kamada_kawai_layout(G),\n",
    "                 node_color=[M.node_info_[node][\"colors\"][2] for node in G.nodes()])\n",
    "plt.show()"
   ]
  },
  {
   "cell_type": "markdown",
   "metadata": {},
   "source": [
    "Define function and topological feature type with which we will compute persistence on the Mapper. In the cell below, the function is defined as the 3rd coordinate of the point cloud and the feature type is downward branch."
   ]
  },
  {
   "cell_type": "code",
   "execution_count": null,
   "metadata": {},
   "outputs": [],
   "source": [
    "function = XF[:,0]\n",
    "topo = \"downbranch\""
   ]
  },
  {
   "cell_type": "markdown",
   "metadata": {},
   "source": [
    "Compute downbranches and their representative nodes."
   ]
  },
  {
   "cell_type": "code",
   "execution_count": null,
   "metadata": {},
   "outputs": [],
   "source": [
    "dgm, bnd = stm.compute_topological_features(M, function, \"data\", topo)"
   ]
  },
  {
   "cell_type": "code",
   "execution_count": null,
   "metadata": {},
   "outputs": [],
   "source": [
    "print(dgm, bnd)"
   ]
  },
  {
   "cell_type": "code",
   "execution_count": null,
   "metadata": {},
   "outputs": [],
   "source": [
    "G = stm.mapper2networkx(M)\n",
    "plt.figure(figsize=(40,10))\n",
    "for idx, bd in enumerate(bnd):\n",
    "    plt.subplot(1,len(bnd),idx+1)\n",
    "    nx.draw_networkx(G, pos=nx.kamada_kawai_layout(G), \n",
    "            node_color=[1 if node in bd else 0 for node in G.nodes()])\n",
    "plt.show()"
   ]
  },
  {
   "cell_type": "markdown",
   "metadata": {},
   "source": [
    "Filter downbranches with significance less than 90% with 100-bootstrap."
   ]
  },
  {
   "cell_type": "code",
   "execution_count": null,
   "metadata": {},
   "outputs": [],
   "source": [
    "confidence = 0.90\n",
    "bootstrap  = 100"
   ]
  },
  {
   "cell_type": "code",
   "execution_count": null,
   "metadata": {},
   "outputs": [],
   "source": [
    "sdgm, sbnd = stm.evaluate_significance(dgm, bnd, X, M, function, params, topo, confidence, bootstrap)"
   ]
  },
  {
   "cell_type": "code",
   "execution_count": null,
   "metadata": {},
   "outputs": [],
   "source": [
    "print(sdgm, sbnd)"
   ]
  },
  {
   "cell_type": "markdown",
   "metadata": {},
   "source": [
    "Sort coordinates with respect to their ability to differentiate the first significant downbranch from the rest of the Mapper nodes."
   ]
  },
  {
   "cell_type": "code",
   "execution_count": null,
   "metadata": {},
   "outputs": [],
   "source": [
    "features, pv = stm.compute_DE_features(X, M, sbnd[0])"
   ]
  },
  {
   "cell_type": "code",
   "execution_count": null,
   "metadata": {},
   "outputs": [],
   "source": [
    "print(features, pv)"
   ]
  }
 ],
 "metadata": {
  "kernelspec": {
   "display_name": "Python 3",
   "language": "python",
   "name": "python3"
  },
  "language_info": {
   "codemirror_mode": {
    "name": "ipython",
    "version": 3
   },
   "file_extension": ".py",
   "mimetype": "text/x-python",
   "name": "python",
   "nbconvert_exporter": "python",
   "pygments_lexer": "ipython3",
   "version": "3.11.5"
  },
  "toc": {
   "base_numbering": 1,
   "nav_menu": {},
   "number_sections": true,
   "sideBar": true,
   "skip_h1_title": false,
   "title_cell": "Table of Contents",
   "title_sidebar": "Contents",
   "toc_cell": false,
   "toc_position": {},
   "toc_section_display": true,
   "toc_window_display": false
  }
 },
 "nbformat": 4,
 "nbformat_minor": 2
}
