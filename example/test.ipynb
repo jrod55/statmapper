{
 "cells": [
  {
   "cell_type": "code",
   "execution_count": null,
   "metadata": {},
   "outputs": [],
   "source": [
    "import numpy as np\n",
    "import statmapper as stm\n",
    "from sklearn_tda import MapperComplex\n",
    "import matplotlib.pyplot as plt\n",
    "import networkx as nx\n",
    "from sklearn.cluster import AgglomerativeClustering\n",
    "from sklearn_tda import clustering"
   ]
  },
  {
   "cell_type": "markdown",
   "metadata": {},
   "source": [
    "Load data."
   ]
  },
  {
   "cell_type": "code",
   "execution_count": null,
   "metadata": {},
   "outputs": [],
   "source": [
    "X = np.loadtxt(\"testmat\")\n",
    "XF = np.loadtxt(\"testfilt\")\n",
    "XF = XF.reshape(467,1)\n"
   ]
  },
  {
   "cell_type": "markdown",
   "metadata": {},
   "source": [
    "Compute Mapper with `sklearn_tda`"
   ]
  },
  {
   "cell_type": "code",
   "execution_count": null,
   "metadata": {},
   "outputs": [],
   "source": [
    "\"\"\" params = {\"filters\": X[:,2:3], \"filter_bnds\": np.array([[np.nan,np.nan]]), \"colors\": X, \n",
    "          \"resolutions\": np.array([24]), \"gains\": np.array([0.3]), \"inp\": \"point cloud\", \n",
    "          \"clustering\": AgglomerativeClustering(n_clusters=None, linkage=\"single\", distance_threshold=.1)} \"\"\"\n",
    "\n",
    "\"\"\" params = {\"filters\": XF, \"filter_bnds\": np.array([[np.nan,np.nan]]), \"colors\": X, \n",
    "          \"resolutions\": np.array([np.nan]), \"gains\": np.array([0.50]), \"inp\": \"point cloud\", \n",
    "          \"clustering\": AgglomerativeClustering(n_clusters=None, linkage=\"single\", distance_threshold=0.7)} \"\"\"\n",
    "\n",
    "params = {\"filters\": XF, \"filter_bnds\": np.array([[np.nan,np.nan]]), \"colors\": X, \n",
    "          \"resolutions\": np.array([3]), \"gains\": np.array([0.15]), \"inp\": \"point cloud\", \n",
    "          \"clustering\": AgglomerativeClustering(n_clusters=None, linkage=\"complete\", distance_threshold=0.73)}"
   ]
  },
  {
   "cell_type": "code",
   "execution_count": null,
   "metadata": {},
   "outputs": [],
   "source": [
    "M = MapperComplex(**params).fit(X)"
   ]
  },
  {
   "cell_type": "code",
   "execution_count": null,
   "metadata": {},
   "outputs": [],
   "source": [
    "MapperComplex?"
   ]
  },
  {
   "cell_type": "code",
   "execution_count": null,
   "metadata": {},
   "outputs": [],
   "source": [
    "clustering.estimate_scale(X)"
   ]
  },
  {
   "cell_type": "code",
   "execution_count": null,
   "metadata": {},
   "outputs": [],
   "source": [
    "MapperComplex(**params).get_optimal_parameters_for_agglomerative_clustering(X)"
   ]
  },
  {
   "cell_type": "markdown",
   "metadata": {},
   "source": [
    "Display Mapper with `networkx` library."
   ]
  },
  {
   "cell_type": "code",
   "execution_count": null,
   "metadata": {},
   "outputs": [],
   "source": [
    "G = stm.mapper2networkx(M)\n",
    "nx.draw_networkx(G,pos=nx.kamada_kawai_layout(G),\n",
    "                 node_color=[M.node_info_[node][\"colors\"][2] for node in G.nodes()])\n",
    "plt.show()"
   ]
  },
  {
   "cell_type": "markdown",
   "metadata": {},
   "source": [
    "Define function and topological feature type with which we will compute persistence on the Mapper. In the cell below, the function is defined as the 3rd coordinate of the point cloud and the feature type is downward branch."
   ]
  },
  {
   "cell_type": "code",
   "execution_count": null,
   "metadata": {},
   "outputs": [],
   "source": [
    "function = XF[:,0]\n",
    "topo = \"downbranch\""
   ]
  },
  {
   "cell_type": "markdown",
   "metadata": {},
   "source": [
    "Compute downbranches and their representative nodes."
   ]
  },
  {
   "cell_type": "code",
   "execution_count": null,
   "metadata": {},
   "outputs": [],
   "source": [
    "dgm, bnd = stm.compute_topological_features(M, function, \"data\", topo)"
   ]
  },
  {
   "cell_type": "code",
   "execution_count": null,
   "metadata": {},
   "outputs": [],
   "source": [
    "print(dgm, bnd)"
   ]
  },
  {
   "cell_type": "code",
   "execution_count": null,
   "metadata": {},
   "outputs": [],
   "source": [
    "G = stm.mapper2networkx(M)\n",
    "plt.figure(figsize=(40,10))\n",
    "for idx, bd in enumerate(bnd):\n",
    "    plt.subplot(1,len(bnd),idx+1)\n",
    "    nx.draw_networkx(G, pos=nx.kamada_kawai_layout(G), \n",
    "            node_color=[1 if node in bd else 0 for node in G.nodes()])\n",
    "plt.show()"
   ]
  },
  {
   "cell_type": "markdown",
   "metadata": {},
   "source": [
    "Filter downbranches with significance less than 90% with 100-bootstrap."
   ]
  },
  {
   "cell_type": "code",
   "execution_count": null,
   "metadata": {},
   "outputs": [],
   "source": [
    "confidence = 0.90\n",
    "bootstrap  = 100"
   ]
  },
  {
   "cell_type": "code",
   "execution_count": null,
   "metadata": {},
   "outputs": [],
   "source": [
    "sdgm, sbnd = stm.evaluate_significance(dgm, bnd, X, M, function, params, topo, confidence, bootstrap)"
   ]
  },
  {
   "cell_type": "code",
   "execution_count": null,
   "metadata": {},
   "outputs": [],
   "source": [
    "print(sdgm, sbnd)"
   ]
  },
  {
   "cell_type": "markdown",
   "metadata": {},
   "source": [
    "Sort coordinates with respect to their ability to differentiate the first significant downbranch from the rest of the Mapper nodes."
   ]
  },
  {
   "cell_type": "code",
   "execution_count": null,
   "metadata": {},
   "outputs": [],
   "source": [
    "features, pv = stm.compute_DE_features(X, M, sbnd[0])"
   ]
  },
  {
   "cell_type": "code",
   "execution_count": null,
   "metadata": {},
   "outputs": [],
   "source": [
    "print(features, pv)"
   ]
  }
 ],
 "metadata": {
  "kernelspec": {
   "display_name": "Python 3",
   "language": "python",
   "name": "python3"
  },
  "language_info": {
   "codemirror_mode": {
    "name": "ipython",
    "version": 3
   },
   "file_extension": ".py",
   "mimetype": "text/x-python",
   "name": "python",
   "nbconvert_exporter": "python",
   "pygments_lexer": "ipython3",
   "version": "3.11.5"
  },
  "toc": {
   "base_numbering": 1,
   "nav_menu": {},
   "number_sections": true,
   "sideBar": true,
   "skip_h1_title": false,
   "title_cell": "Table of Contents",
   "title_sidebar": "Contents",
   "toc_cell": false,
   "toc_position": {},
   "toc_section_display": true,
   "toc_window_display": false
  }
 },
 "nbformat": 4,
 "nbformat_minor": 2
}
